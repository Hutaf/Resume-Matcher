{
  "nbformat": 4,
  "nbformat_minor": 0,
  "metadata": {
    "kernelspec": {
      "display_name": "Python 3",
      "language": "python",
      "name": "python3"
    },
    "language_info": {
      "codemirror_mode": {
        "name": "ipython",
        "version": 3
      },
      "file_extension": ".py",
      "mimetype": "text/x-python",
      "name": "python",
      "nbconvert_exporter": "python",
      "pygments_lexer": "ipython3",
      "version": "3.7.3"
    },
    "colab": {
      "name": "Resume_Matcher.ipynb",
      "provenance": [],
      "collapsed_sections": [],
      "toc_visible": true,
      "include_colab_link": true
    }
  },
  "cells": [
    {
      "cell_type": "markdown",
      "metadata": {
        "id": "view-in-github",
        "colab_type": "text"
      },
      "source": [
        "<a href=\"https://colab.research.google.com/github/Hutaf/Resume-Matcher/blob/master/Resume_Matcher.ipynb\" target=\"_parent\"><img src=\"https://colab.research.google.com/assets/colab-badge.svg\" alt=\"Open In Colab\"/></a>"
      ]
    },
    {
      "cell_type": "markdown",
      "metadata": {
        "id": "T16Z5nFwd9r2"
      },
      "source": [
        "## Resume matcher \n",
        "helps companies to find the ideal candidates based on job description\n",
        "\n",
        "### Steps:\n",
        "###### 1- Resume and job description parsing: convert pdf and docx files to list of string \n",
        "###### 2- Removing stop words and cleaning\n",
        "###### 3- Use CountVector and cosine similarity metric to find the matching percentage "
      ]
    },
    {
      "cell_type": "markdown",
      "metadata": {
        "id": "ZR--szBFd9r4"
      },
      "source": [
        "## 1"
      ]
    },
    {
      "cell_type": "code",
      "metadata": {
        "id": "7r5vXQf0ei5n",
        "colab": {
          "base_uri": "https://localhost:8080/",
          "height": 1000
        },
        "outputId": "d5a78a9f-5f55-439c-caf6-d8498c4b56df"
      },
      "source": [
        "! pip install docx2txt\n",
        "! pip install pdfminer3\n",
        "! pip install PyPDF2\n",
        "! pip install gensim\n",
        "! pip install nltk"
      ],
      "execution_count": null,
      "outputs": [
        {
          "output_type": "stream",
          "text": [
            "Collecting docx2txt\n",
            "  Downloading https://files.pythonhosted.org/packages/7d/7d/60ee3f2b16d9bfdfa72e8599470a2c1a5b759cb113c6fe1006be28359327/docx2txt-0.8.tar.gz\n",
            "Building wheels for collected packages: docx2txt\n",
            "  Building wheel for docx2txt (setup.py) ... \u001b[?25l\u001b[?25hdone\n",
            "  Created wheel for docx2txt: filename=docx2txt-0.8-cp36-none-any.whl size=3963 sha256=95f72dd3585fd1da6fa04dc4d0471fcf16853b09d299f4c0f0f29a2b3a6d1c8c\n",
            "  Stored in directory: /root/.cache/pip/wheels/b2/1f/26/a051209bbb77fc6bcfae2bb7e01fa0ff941b82292ab084d596\n",
            "Successfully built docx2txt\n",
            "Installing collected packages: docx2txt\n",
            "Successfully installed docx2txt-0.8\n",
            "Collecting pdfminer3\n",
            "\u001b[?25l  Downloading https://files.pythonhosted.org/packages/68/d4/81ce4f7ca0c563da98283501747af8248de5021aeaa4c69c9ae460e13efb/pdfminer3-2018.12.3.0.tar.gz (5.0MB)\n",
            "\u001b[K     |████████████████████████████████| 5.0MB 2.8MB/s \n",
            "\u001b[?25hCollecting pycryptodome\n",
            "\u001b[?25l  Downloading https://files.pythonhosted.org/packages/17/55/17fa0b55849dc135f7bc400993a9206bf06d1b5d9520b0bc8d47c57aaef5/pycryptodome-3.9.8-cp36-cp36m-manylinux1_x86_64.whl (13.7MB)\n",
            "\u001b[K     |████████████████████████████████| 13.7MB 301kB/s \n",
            "\u001b[?25hRequirement already satisfied: sortedcontainers in /usr/local/lib/python3.6/dist-packages (from pdfminer3) (2.2.2)\n",
            "Requirement already satisfied: chardet in /usr/local/lib/python3.6/dist-packages (from pdfminer3) (3.0.4)\n",
            "Building wheels for collected packages: pdfminer3\n",
            "  Building wheel for pdfminer3 (setup.py) ... \u001b[?25l\u001b[?25hdone\n",
            "  Created wheel for pdfminer3: filename=pdfminer3-2018.12.3.0-cp36-none-any.whl size=117806 sha256=6f8fab85c278d82c14a67ad05d855a0f37b8fb1244dde1d2b5e115bc9cb49ac1\n",
            "  Stored in directory: /root/.cache/pip/wheels/27/35/61/7d4c0c350683751100186de869681db04d6f2c5ab603eb0510\n",
            "Successfully built pdfminer3\n",
            "Installing collected packages: pycryptodome, pdfminer3\n",
            "Successfully installed pdfminer3-2018.12.3.0 pycryptodome-3.9.8\n",
            "Collecting PyPDF2\n",
            "\u001b[?25l  Downloading https://files.pythonhosted.org/packages/b4/01/68fcc0d43daf4c6bdbc6b33cc3f77bda531c86b174cac56ef0ffdb96faab/PyPDF2-1.26.0.tar.gz (77kB)\n",
            "\u001b[K     |████████████████████████████████| 81kB 2.3MB/s \n",
            "\u001b[?25hBuilding wheels for collected packages: PyPDF2\n",
            "  Building wheel for PyPDF2 (setup.py) ... \u001b[?25l\u001b[?25hdone\n",
            "  Created wheel for PyPDF2: filename=PyPDF2-1.26.0-cp36-none-any.whl size=61086 sha256=2633f408f6925d87ca5ffba2271b83b6d3b94fd4ad9e0f15c488b23771ad0f4e\n",
            "  Stored in directory: /root/.cache/pip/wheels/53/84/19/35bc977c8bf5f0c23a8a011aa958acd4da4bbd7a229315c1b7\n",
            "Successfully built PyPDF2\n",
            "Installing collected packages: PyPDF2\n",
            "Successfully installed PyPDF2-1.26.0\n",
            "Requirement already satisfied: gensim in /usr/local/lib/python3.6/dist-packages (3.6.0)\n",
            "Requirement already satisfied: scipy>=0.18.1 in /usr/local/lib/python3.6/dist-packages (from gensim) (1.4.1)\n",
            "Requirement already satisfied: smart-open>=1.2.1 in /usr/local/lib/python3.6/dist-packages (from gensim) (2.0.0)\n",
            "Requirement already satisfied: numpy>=1.11.3 in /usr/local/lib/python3.6/dist-packages (from gensim) (1.18.5)\n",
            "Requirement already satisfied: six>=1.5.0 in /usr/local/lib/python3.6/dist-packages (from gensim) (1.12.0)\n",
            "Requirement already satisfied: boto in /usr/local/lib/python3.6/dist-packages (from smart-open>=1.2.1->gensim) (2.49.0)\n",
            "Requirement already satisfied: requests in /usr/local/lib/python3.6/dist-packages (from smart-open>=1.2.1->gensim) (2.23.0)\n",
            "Requirement already satisfied: boto3 in /usr/local/lib/python3.6/dist-packages (from smart-open>=1.2.1->gensim) (1.14.9)\n",
            "Requirement already satisfied: idna<3,>=2.5 in /usr/local/lib/python3.6/dist-packages (from requests->smart-open>=1.2.1->gensim) (2.9)\n",
            "Requirement already satisfied: chardet<4,>=3.0.2 in /usr/local/lib/python3.6/dist-packages (from requests->smart-open>=1.2.1->gensim) (3.0.4)\n",
            "Requirement already satisfied: urllib3!=1.25.0,!=1.25.1,<1.26,>=1.21.1 in /usr/local/lib/python3.6/dist-packages (from requests->smart-open>=1.2.1->gensim) (1.24.3)\n",
            "Requirement already satisfied: certifi>=2017.4.17 in /usr/local/lib/python3.6/dist-packages (from requests->smart-open>=1.2.1->gensim) (2020.6.20)\n",
            "Requirement already satisfied: jmespath<1.0.0,>=0.7.1 in /usr/local/lib/python3.6/dist-packages (from boto3->smart-open>=1.2.1->gensim) (0.10.0)\n",
            "Requirement already satisfied: botocore<1.18.0,>=1.17.9 in /usr/local/lib/python3.6/dist-packages (from boto3->smart-open>=1.2.1->gensim) (1.17.9)\n",
            "Requirement already satisfied: s3transfer<0.4.0,>=0.3.0 in /usr/local/lib/python3.6/dist-packages (from boto3->smart-open>=1.2.1->gensim) (0.3.3)\n",
            "Requirement already satisfied: python-dateutil<3.0.0,>=2.1 in /usr/local/lib/python3.6/dist-packages (from botocore<1.18.0,>=1.17.9->boto3->smart-open>=1.2.1->gensim) (2.8.1)\n",
            "Requirement already satisfied: docutils<0.16,>=0.10 in /usr/local/lib/python3.6/dist-packages (from botocore<1.18.0,>=1.17.9->boto3->smart-open>=1.2.1->gensim) (0.15.2)\n",
            "Requirement already satisfied: nltk in /usr/local/lib/python3.6/dist-packages (3.2.5)\n",
            "Requirement already satisfied: six in /usr/local/lib/python3.6/dist-packages (from nltk) (1.12.0)\n"
          ],
          "name": "stdout"
        }
      ]
    },
    {
      "cell_type": "code",
      "metadata": {
        "id": "5Fv0we_zgHu-",
        "colab": {
          "base_uri": "https://localhost:8080/",
          "height": 439
        },
        "outputId": "af6b72d6-60fc-483f-f8f4-0cf4c8ef5b8a"
      },
      "source": [
        "! pip install docx\n",
        "! pip install python-docx"
      ],
      "execution_count": null,
      "outputs": [
        {
          "output_type": "stream",
          "text": [
            "Collecting docx\n",
            "\u001b[?25l  Downloading https://files.pythonhosted.org/packages/4a/8e/5a01644697b03016de339ef444cfff28367f92984dc74eddaab1ed60eada/docx-0.2.4.tar.gz (54kB)\n",
            "\r\u001b[K     |██████                          | 10kB 17.6MB/s eta 0:00:01\r\u001b[K     |████████████                    | 20kB 1.8MB/s eta 0:00:01\r\u001b[K     |██████████████████              | 30kB 2.3MB/s eta 0:00:01\r\u001b[K     |███████████████████████▉        | 40kB 2.6MB/s eta 0:00:01\r\u001b[K     |█████████████████████████████▉  | 51kB 2.1MB/s eta 0:00:01\r\u001b[K     |████████████████████████████████| 61kB 1.9MB/s \n",
            "\u001b[?25hRequirement already satisfied: lxml in /usr/local/lib/python3.6/dist-packages (from docx) (4.2.6)\n",
            "Requirement already satisfied: Pillow>=2.0 in /usr/local/lib/python3.6/dist-packages (from docx) (7.0.0)\n",
            "Building wheels for collected packages: docx\n",
            "  Building wheel for docx (setup.py) ... \u001b[?25l\u001b[?25hdone\n",
            "  Created wheel for docx: filename=docx-0.2.4-cp36-none-any.whl size=53925 sha256=b83d4e08a894171506cc70a81fb3f63e3f0c7fb86332a210e0082867bfabf198\n",
            "  Stored in directory: /root/.cache/pip/wheels/cc/8d/09/563edfd874a35c0c7ed129b6c4fa890efa4c26458bdec6ffc1\n",
            "Successfully built docx\n",
            "Installing collected packages: docx\n",
            "Successfully installed docx-0.2.4\n",
            "Collecting python-docx\n",
            "\u001b[?25l  Downloading https://files.pythonhosted.org/packages/e4/83/c66a1934ed5ed8ab1dbb9931f1779079f8bca0f6bbc5793c06c4b5e7d671/python-docx-0.8.10.tar.gz (5.5MB)\n",
            "\u001b[K     |████████████████████████████████| 5.5MB 2.8MB/s \n",
            "\u001b[?25hRequirement already satisfied: lxml>=2.3.2 in /usr/local/lib/python3.6/dist-packages (from python-docx) (4.2.6)\n",
            "Building wheels for collected packages: python-docx\n",
            "  Building wheel for python-docx (setup.py) ... \u001b[?25l\u001b[?25hdone\n",
            "  Created wheel for python-docx: filename=python_docx-0.8.10-cp36-none-any.whl size=184491 sha256=b00851b4532f42f67d8c74db171d80af12bdce113e9c209a6d5c958546201ceb\n",
            "  Stored in directory: /root/.cache/pip/wheels/18/0b/a0/1dd62ff812c857c9e487f27d80d53d2b40531bec1acecfa47b\n",
            "Successfully built python-docx\n",
            "Installing collected packages: python-docx\n",
            "Successfully installed python-docx-0.8.10\n"
          ],
          "name": "stdout"
        }
      ]
    },
    {
      "cell_type": "code",
      "metadata": {
        "id": "FTFeXbJViDWm",
        "colab": {
          "base_uri": "https://localhost:8080/",
          "height": 129
        },
        "outputId": "ee230d7a-dff6-477a-ba3b-18209bb92401"
      },
      "source": [
        "from google.colab import drive\n",
        "drive.mount('/content/drive')"
      ],
      "execution_count": null,
      "outputs": [
        {
          "output_type": "stream",
          "text": [
            "Go to this URL in a browser: https://accounts.google.com/o/oauth2/auth?client_id=947318989803-6bn6qk8qdgf4n4g3pfee6491hc0brc4i.apps.googleusercontent.com&redirect_uri=urn%3aietf%3awg%3aoauth%3a2.0%3aoob&response_type=code&scope=email%20https%3a%2f%2fwww.googleapis.com%2fauth%2fdocs.test%20https%3a%2f%2fwww.googleapis.com%2fauth%2fdrive%20https%3a%2f%2fwww.googleapis.com%2fauth%2fdrive.photos.readonly%20https%3a%2f%2fwww.googleapis.com%2fauth%2fpeopleapi.readonly\n",
            "\n",
            "Enter your authorization code:\n",
            "··········\n",
            "Mounted at /content/drive\n"
          ],
          "name": "stdout"
        }
      ]
    },
    {
      "cell_type": "code",
      "metadata": {
        "id": "ZH-omPNFd9r5"
      },
      "source": [
        "#Libraries\n",
        "import os\n",
        "import collections\n",
        "import docx2txt\n",
        "from pdfminer3.layout import LAParams, LTTextBox\n",
        "from pdfminer3.pdfpage import PDFPage\n",
        "from pdfminer3.pdfinterp import PDFResourceManager\n",
        "from pdfminer3.pdfinterp import PDFPageInterpreter\n",
        "from pdfminer3.converter import PDFPageAggregator\n",
        "from pdfminer3.converter import TextConverter\n",
        "import io\n",
        "import docx "
      ],
      "execution_count": null,
      "outputs": []
    },
    {
      "cell_type": "code",
      "metadata": {
        "id": "QVtUGJQKkk7S",
        "colab": {
          "base_uri": "https://localhost:8080/",
          "height": 72
        },
        "outputId": "75a25c24-5a4c-406f-f0a9-9b4b373c9541"
      },
      "source": [
        "import nltk\n",
        "nltk.download('stopwords')"
      ],
      "execution_count": null,
      "outputs": [
        {
          "output_type": "stream",
          "text": [
            "[nltk_data] Downloading package stopwords to /root/nltk_data...\n",
            "[nltk_data]   Unzipping corpora/stopwords.zip.\n"
          ],
          "name": "stdout"
        },
        {
          "output_type": "execute_result",
          "data": {
            "text/plain": [
              "True"
            ]
          },
          "metadata": {
            "tags": []
          },
          "execution_count": 6
        }
      ]
    },
    {
      "cell_type": "code",
      "metadata": {
        "id": "Pgd1ILQMd9r8"
      },
      "source": [
        "def convert_pdf_to_txt(path):\n",
        "    resource_manager = PDFResourceManager()\n",
        "    fake_file_handle = io.StringIO()\n",
        "    converter = TextConverter(resource_manager, fake_file_handle, laparams=LAParams())\n",
        "    page_interpreter = PDFPageInterpreter(resource_manager, converter)\n",
        "\n",
        "    with open(path, 'rb') as fh:\n",
        "\n",
        "        for page in PDFPage.get_pages(fh,\n",
        "                                      caching=True,\n",
        "                                      check_extractable=True):\n",
        "            page_interpreter.process_page(page)\n",
        "\n",
        "        text = fake_file_handle.getvalue()\n",
        "    converter.close()\n",
        "    fake_file_handle.close()\n",
        "    return text"
      ],
      "execution_count": null,
      "outputs": []
    },
    {
      "cell_type": "code",
      "metadata": {
        "id": "nLmCBDUrd9sA"
      },
      "source": [
        "projectDir = '/content/drive/My Drive/'\n",
        "resumeDir = projectDir + 'Resumes/' \n",
        "jobPostDir= projectDir + 'Job/'"
      ],
      "execution_count": null,
      "outputs": []
    },
    {
      "cell_type": "code",
      "metadata": {
        "id": "p7LfMaEEd9sG"
      },
      "source": [
        "# Extracting Resume and any file \n",
        "\n",
        "def MultipleConvert(FolderDir):\n",
        " resumeTxt = []\n",
        " for filename in os.listdir(FolderDir):\n",
        "    if(filename.endswith(\".pdf\")):\n",
        "        try:\n",
        "            resumeTxt.append(convert_pdf_to_txt(FolderDir+filename))\n",
        "        except Exception:\n",
        "            print('Error reading .pdf file' + filename)\n",
        "    if(filename.endswith(\".docx\")):\n",
        "        try:\n",
        "            doc = docx.Document(FolderDir + filename)\n",
        "            data = \"\"\n",
        "            fullText = []\n",
        "            for para in doc.paragraphs:\n",
        "                fullText.append(para.text)\n",
        "                data = '\\n'.join(fullText)\n",
        "            resumeTxt.append(data)\n",
        "        except IOError:\n",
        "            print('Error reading .docx file' + filename)\n",
        "    if(filename.endswith(\".doc\")):\n",
        "        try:\n",
        "            text = textract.process(FolderDir+filename).decode('utf-8')     \n",
        "            resumeTxt.append(text)\n",
        "        except Exception:\n",
        "            print('Error reading .doc file :' + filename)\n",
        " return resumeTxt"
      ],
      "execution_count": null,
      "outputs": []
    },
    {
      "cell_type": "code",
      "metadata": {
        "id": "P0meh9WM1Z_3",
        "colab": {
          "base_uri": "https://localhost:8080/",
          "height": 201
        },
        "outputId": "e7db1727-37a2-4657-e30e-45c7ee0ac473"
      },
      "source": [
        "resumeTxt = MultipleConvert(resumeDir)\n",
        "JobTxt = MultipleConvert(jobPostDir)"
      ],
      "execution_count": null,
      "outputs": [
        {
          "output_type": "stream",
          "text": [
            "Error reading .doc file :Bangkok Bank_Mak Hwei Chin_Accountant.doc\n",
            "Error reading .doc file :Gamevil_Belinda Zhang_Accounting Manager.doc\n",
            "Error reading .doc file :Aviva_Elaine Cheah_Assistant FM.doc\n",
            "Error reading .doc file :APL_Muthuraman_Enterprise Architect.doc\n",
            "Error reading .doc file :Edrington_Lim Kim Yan_Finance Manager.doc\n",
            "Error reading .doc file :Blackberry_Pradeep Ladd_Sr FM.doc\n",
            "Error reading .doc file :Aberdeen_Magdalene Yow_Finance Manager.doc\n",
            "Error reading .doc file :Trinitus AM_Vanessa Lam_Office Manager.doc\n",
            "Error reading .doc file :Fidelity Management_Anna Chan_Equity Trading Coordinator.doc\n",
            "Error reading .doc file :Sinopac AM_Charlotte Wong_EA.doc\n"
          ],
          "name": "stdout"
        }
      ]
    },
    {
      "cell_type": "code",
      "metadata": {
        "id": "cDHwOGFUd9sQ",
        "colab": {
          "base_uri": "https://localhost:8080/",
          "height": 1000
        },
        "outputId": "ec6f19d5-6a8d-477a-8e04-22128d631597"
      },
      "source": [
        "print(JobTxt[0])"
      ],
      "execution_count": null,
      "outputs": [
        {
          "output_type": "stream",
          "text": [
            "CHIEF FINANCIAL OFFICER\n",
            "\n",
            "\n",
            "JOB DESCRIPTION\n",
            "\n",
            "\n",
            "Principal Accountabilities (Key Result Areas)\n",
            "\n",
            "Oversee long-term budgetary planning and costs management in alignment with organization‟s strategic plan, especially as the organization considers sponsorships, potential acquisitions, and collaborations with external organizations.\n",
            "\n",
            "Assess organizational performance against both the annual budget and long-term strategy. Develop tools and systems to provide critical financial and operational information to the management and make actionable recommendations on both strategy and operations.\n",
            "\n",
            "Engage the board finance, audit, and investment committees around issues, trends, and changes in the operating model and operational delivery. Assist in establishing yearly objectives and meeting agendas, and selecting and engaging outside consultants (auditors, investment advisors).\n",
            "\n",
            "Oversee all accounts, ledgers, and reporting systems, ensuring compliance with appropriate accounting principles, regulatory requirements, and budget audit requirements. Maintain internal control safeguards.\n",
            "\n",
            "Manage cash flow and forecasting. Develop a reliable cash flow projection process and reporting mechanism that includes minimum cash threshold to meet operating needs. Optimize the handling of banking relationships and initiate appropriate strategies to enhance cash positions.\n",
            "\n",
            "Responsible to get new working capital limit wherever required and increase the existing working capital limit for smooth functioning of the company.\n",
            "\n",
            "Oversee budgeting and the implementation of budgets so as to monitor progress and present financial metrics both internally and externally.\n",
            "\n",
            "Responsible for raising of debt overseas to finance acquisitions.\n",
            "\n",
            "Responsible for ensuring that the company does not pay any cash on repatriation and cash is available at closing.\n",
            "\n",
            "Responsible for arranging capex loan as per the requirements of the business.\n",
            "\n",
            "Directs the preparation of all financial reports, including income statements, balance sheets, reports to shareholders, tax returns, and reports for government regulatory agencies.\n",
            "\n",
            "Reviews reports to analyze projections of sales and profit against actual figures, budgeted expenses against final totals, and suggests methods of improving the planning process as appropriate.\n",
            "\n",
            "\n",
            "\n",
            "\n",
            "\n",
            "\n",
            "\n",
            "Studies long-range economic trends and projects company prospects for future growth in overall sales and market share, opportunities for acquisitions or expansion into new product areas.\n",
            "\n",
            "Supervises investment of funds; works with banks and/or investment bankers to raise additional capital as required for expansion.\n",
            "\n",
            "Mentor and develop team, managing work allocation, training, problem resolution, performance evaluation, and the building of an effective team dynamic.\n",
            "\n",
            "\n",
            "Standards for Measuring Success\n",
            "\n",
            "\n",
            "Financial metrics\n",
            "Profit & Loss statement\n",
            "Key management attributes & Key Performance Indicators (KPIs) as agreed.\n",
            "\n",
            "\n",
            "Tools & Resources required\n",
            "\n",
            "Standard office and computer equipment\n",
            "\n",
            "\n",
            "Environmental Attributes\n",
            "\n",
            "High Speed\n",
            "\n",
            "Fast Growth\n",
            "Highly charged\n",
            "Dynamic\n",
            "\n",
            "JOB SPECIFICATION: ASK Framework\n",
            "\n",
            "\n",
            "Attitude\n",
            "\n",
            "Positive\n",
            "Employee-centric\n",
            "Customer-centric\n",
            "Fast paced and prompt\n",
            "Achievement oriented\n",
            "Energetic and Enthusiastic\n",
            "Focused\n",
            "Self motivated\n",
            "\n",
            "\n",
            "Skills\n",
            "\n",
            "Excellent Communication skills\n",
            "Analytical skills\n",
            "Interpersonal skills\n",
            "Problem Solving skills\n",
            "Mentoring skills\n",
            "\n",
            "\n",
            "\n",
            "\n",
            "\n",
            "\n",
            "Decision making skills\n",
            "Strong planning skills\n",
            "Strong organizing skills\n",
            "Skilled in strategy and business development\n",
            "Strong leadership skills\n",
            "High on initiative and ability to manage ambiguity\n",
            "\n",
            "Knowledge\n",
            "\n",
            "Qualification:  Graduate/Masters in business administration/ accounting/ or finance.\n",
            "Experience: 15 - 25 Years experience.\n",
            "\n",
            "\n",
            "Age Group\n",
            "\n",
            "The incumbent should be in the age group of 40-50 years.\n",
            "\n",
            "\n",
            "\n",
            "\n",
            "\n",
            "\n",
            "\n",
            "\n",
            "\n",
            "\n",
            "\n",
            "\n",
            "\n",
            "\n",
            "\n",
            "\n",
            "\n",
            "\n",
            "\n"
          ],
          "name": "stdout"
        }
      ]
    },
    {
      "cell_type": "code",
      "metadata": {
        "id": "pIr3y1Fvd9sU",
        "colab": {
          "base_uri": "https://localhost:8080/",
          "height": 1000
        },
        "outputId": "e31e019f-ac4d-4359-cc28-fa8f21d5734a"
      },
      "source": [
        "print(resumeTxt[0])"
      ],
      "execution_count": null,
      "outputs": [
        {
          "output_type": "stream",
          "text": [
            "Lim Hui Ling Dorothy\n",
            "Phone: 81339491 Email: \n",
            "\n",
            "WORK EXPERIENCE\n",
            "\n",
            "EQUINIX ASIA PACIFIC PTE LTD\n",
            "General Ledger, Regional Shared Service Centre (Senior Accountant)\n",
            "Summary of responsibilities:\n",
            "Finance responsibilities:\n",
            "Led the Shared Service Centre setup in 2014 for Hong Kong country (total – 2 entities and 1 branch office)\n",
            "Perform and co-ordinate month-end closing with country team\n",
            "Preparation, processing and posting of monthly journals\n",
            "Processing of fixed assets, CIP% schedules\n",
            "Preparation of monthly audit schedules\n",
            "Preparation of monthly and quarterly fluctuation analysis \n",
            "Intercompany billing, reconciliation and confirmation\n",
            "Review of lease agreements for operating, capital or built-to-suit leases, computing and assessing for asset retirement obligation\n",
            "Preparation of quarterly accounting memos for assessment in compliance with US GAAP requirements\n",
            "Preparation of monthly schedules for vendor information updates in system\n",
            "Sign off for SOX internal controls review\n",
            "Liaise with auditors for statutory and group reporting requirements\n",
            "Finance Projects involvement:\n",
            "2014:\n",
            "Involved in User Acceptance Testing for upgrade of Oracle Accounting System (R11 to R12), identifying areas of system improvement (key reports functionalities) \n",
            "Involved in REIT restructuring for Hong Kong – creation of one additional legal entity (2015), User Acceptance Testing in Oracle  and recording of transfer entries\n",
            "2015:\n",
            "Shadowing program to Regional Tax Department (3 months)\n",
            "Assisted in deferred taxes computation true-up from local GAAP to US GAAP\n",
            "Assisted in report validation for automating GST rates in billing system\n",
            "Acquisition of Japan subsidiaries (total – 10 entities). Worked with Corporate HQ team in US and with KPMG in Purchase Accounting entries\n",
            "Chart of Accounts mapping conversion of acquired subsidiaries’ Trial Balance  \n",
            "Recording of conversion bridge entries from Japan GAAP to US GAAP for month-end closing\n",
            "2016:\n",
            "Secondment to Japan for Post-Merger Integration activities of acquired subsidiaries in Japan (7 months)\n",
            "Oversee month-end closing activities – drafting calendar deadlines and key liaison accountant co-ordinating between Japan, Shared Service Centre and Corporate HQ \n",
            "Setup internal processes for US SOX compliance reporting,  reviewing SOX deliverables, liaison with Corporate SOX team and with local/ global auditors for any issues and findings\n",
            "Involved in Systems integration planning and execution processes\n",
            "Involved in REIT restructuring planning and execution for acquired subsidiaries\n",
            "Integration of acquired subsidiaries into Equinix culture and work processes\n",
            "Liaison with local/global auditors for acquisition and year-end audit\n",
            "Other non-finance projects involvement:\n",
            "2016:\n",
            "APAC Lead-in-charge for Global Corporate Travel Program rollout\n",
            "Worked with Corporate HQ in selecting of global travel management vendor \n",
            "Review and shortlisted vendors for Request for Proposals (RFPs), demo views\n",
            "Worked with selected vendor on planning and execution of program rollout for APAC countries\n",
            "\n",
            "\n",
            "\n",
            "Recognition and Rewards\n",
            "2015:\n",
            "Q1 2015 Finance Equistar Team Award\n",
            "2016:\n",
            "Individual nomination for Q2 2016 Finance Equistar for ‘Extra Miler’ efforts\n",
            "\n",
            "KPMG\t\t\n",
            "External Audit (Assistant Manager)\n",
            "Audit experience in industries – Electronics & Chemicals, Oil & Gas, Schools, and Government Agencies\n",
            "Summary of responsibilities:\n",
            "Planning, performing of audit fieldwork - responsible for identification of significant risk areas based on client’s business industry and operations. Propose audit approach and procedures. Recognition of relevant internal controls within the client’s financial processes, identification of weakness areas and recommendation of improvement points to further strengthen internal controls\n",
            "Performed review analysis between client’s budgeted and actual financial performances\n",
            "Review of the financial statements in compliance to the reporting financial framework\n",
            "Recognition and Rewards\n",
            "2012:\n",
            "Service Excellence Team Awards 2012 – Gold Award\n",
            "\n",
            "PROFESSIONAL QUALIFICATION\n",
            "Chartered Accountant (Singapore)\n",
            "\n",
            "EDUCATION\n",
            "Bachelor of Accountancy                                                                                                                 \n",
            "Second Class Honours (Lower Division), Nanyang Technological University, Singapore\n",
            "\n",
            "GCE A Level                                                                                                                                           \n",
            "Anderson Junior College \n",
            "\n",
            "GCE O Level\n",
            "Upper Serangoon Secondary School\n",
            "\n",
            "EDUCATION HIGHLIGHTS\n",
            "Social Service Award (Platinum)\n",
            "For good participation in Community Involvement Program (CIP)\n",
            "\n",
            "CCA Commendation Award\n",
            "For exemplary achievements in CCA \n",
            "\n",
            "Ministry of Education: EAGLES Award\n",
            "For leadership skills\n",
            "\n",
            "CCA Merit Award\n",
            "For exemplary achievements in CCA (Concert Band)\n",
            "\n",
            "Concert Band: Band Major\n",
            "\n",
            "Edusave Scholarship Award (Ministry of Education, Singapore)\n",
            "For good academic performance\n",
            "\n",
            "\n",
            "\n",
            "\n",
            "\n",
            "\n",
            "IT SKILLS\n",
            "Oracle (11i, R12)\n",
            "Hyperion \n",
            "Cadency\n",
            "Microsoft Certified Application Specialist – Microsoft Office Excel 2007\n",
            "Microsoft Certified Application Specialist – Microsoft Office Access 2007\n",
            "\n",
            "\n",
            "HOBBIES/INTERESTS\n",
            "Music, Cycling, Travelling\n",
            "\n",
            "\n",
            "\n"
          ],
          "name": "stdout"
        }
      ]
    },
    {
      "cell_type": "code",
      "metadata": {
        "id": "SkniIibJd9sZ",
        "colab": {
          "base_uri": "https://localhost:8080/",
          "height": 35
        },
        "outputId": "9cc400d0-7d5c-4992-ad2e-f3dba2b56de0"
      },
      "source": [
        "len(resumeTxt)"
      ],
      "execution_count": null,
      "outputs": [
        {
          "output_type": "execute_result",
          "data": {
            "text/plain": [
              "15"
            ]
          },
          "metadata": {
            "tags": []
          },
          "execution_count": 13
        }
      ]
    },
    {
      "cell_type": "code",
      "metadata": {
        "id": "bfahS9vY13kr",
        "colab": {
          "base_uri": "https://localhost:8080/",
          "height": 35
        },
        "outputId": "c81235b4-3796-411a-ed9a-569c5805b11a"
      },
      "source": [
        "len(JobTxt)"
      ],
      "execution_count": null,
      "outputs": [
        {
          "output_type": "execute_result",
          "data": {
            "text/plain": [
              "2"
            ]
          },
          "metadata": {
            "tags": []
          },
          "execution_count": 14
        }
      ]
    },
    {
      "cell_type": "code",
      "metadata": {
        "id": "oTuoJVDUd9sc",
        "colab": {
          "base_uri": "https://localhost:8080/",
          "height": 35
        },
        "outputId": "4ca69ae8-b7d9-45ac-e781-f13de11afcdb"
      },
      "source": [
        "type(resumeTxt)"
      ],
      "execution_count": null,
      "outputs": [
        {
          "output_type": "execute_result",
          "data": {
            "text/plain": [
              "list"
            ]
          },
          "metadata": {
            "tags": []
          },
          "execution_count": 15
        }
      ]
    },
    {
      "cell_type": "code",
      "metadata": {
        "id": "eltq1diSd9sf"
      },
      "source": [
        "# NOT IMP\n",
        "# Save Clean files into txt file\n",
        "f=open('Clean_Resume.txt','w', encoding='utf-8')\n",
        "for ele in resumeTxt:\n",
        "    f.write(ele+'\\n')\n",
        "f.close()\n",
        "\n",
        "f1=open('Clean_Job.txt','w', encoding='utf-8')\n",
        "for ele in JobTxt:\n",
        "    f1.write(ele+'\\n')\n",
        "f1.close()"
      ],
      "execution_count": null,
      "outputs": []
    },
    {
      "cell_type": "markdown",
      "metadata": {
        "id": "qz4sByted9sj"
      },
      "source": [
        "## 2 "
      ]
    },
    {
      "cell_type": "code",
      "metadata": {
        "id": "dDqH4qbUd9sk"
      },
      "source": [
        "from nltk.corpus import stopwords\n",
        "stop_word = set(stopwords.words('english'))"
      ],
      "execution_count": null,
      "outputs": []
    },
    {
      "cell_type": "code",
      "metadata": {
        "id": "5bctMoX_d9st"
      },
      "source": [
        "def Cleaning(listTxt):\n",
        " clean = []\n",
        " for x in listTxt:\n",
        "    text = x\n",
        "    text = text.split()\n",
        "    text = [w for w in text if w not in stop_word] # Remove stop_words\n",
        "    text = [w for w in text if w.isalpha()] # Remove numbers and special characters\n",
        "    clean.append(\" \".join(text))\n",
        " return clean"
      ],
      "execution_count": null,
      "outputs": []
    },
    {
      "cell_type": "code",
      "metadata": {
        "id": "CtEvApPi2vH7"
      },
      "source": [
        "# Clean resumes and job description\n",
        "cleanresume = Cleaning(resumeTxt)\n",
        "cleanjob = Cleaning(JobTxt)"
      ],
      "execution_count": null,
      "outputs": []
    },
    {
      "cell_type": "code",
      "metadata": {
        "id": "U4v0ichrd9sw",
        "colab": {
          "base_uri": "https://localhost:8080/",
          "height": 35
        },
        "outputId": "841c7854-64a2-4d78-f866-fe4fc8db47c5"
      },
      "source": [
        "len(resumeTxt[0])"
      ],
      "execution_count": null,
      "outputs": [
        {
          "output_type": "execute_result",
          "data": {
            "text/plain": [
              "5160"
            ]
          },
          "metadata": {
            "tags": []
          },
          "execution_count": 20
        }
      ]
    },
    {
      "cell_type": "code",
      "metadata": {
        "id": "ag7DU7NOd9sz",
        "colab": {
          "base_uri": "https://localhost:8080/",
          "height": 35
        },
        "outputId": "58cd867c-8b64-4224-9c57-5c9591cd2ff0"
      },
      "source": [
        "len(cleanresume[0])"
      ],
      "execution_count": null,
      "outputs": [
        {
          "output_type": "execute_result",
          "data": {
            "text/plain": [
              "3491"
            ]
          },
          "metadata": {
            "tags": []
          },
          "execution_count": 21
        }
      ]
    },
    {
      "cell_type": "code",
      "metadata": {
        "id": "p4alOF2Cd9s2",
        "colab": {
          "base_uri": "https://localhost:8080/",
          "height": 35
        },
        "outputId": "751c36c6-103e-4504-e5de-0ae939b7e958"
      },
      "source": [
        "len(JobTxt[0])"
      ],
      "execution_count": null,
      "outputs": [
        {
          "output_type": "execute_result",
          "data": {
            "text/plain": [
              "3786"
            ]
          },
          "metadata": {
            "tags": []
          },
          "execution_count": 22
        }
      ]
    },
    {
      "cell_type": "code",
      "metadata": {
        "id": "SbB9VtwZd9s5",
        "colab": {
          "base_uri": "https://localhost:8080/",
          "height": 35
        },
        "outputId": "e6fa40ad-f0bd-40ed-e140-92c188aab62a"
      },
      "source": [
        "len(cleanjob[0])"
      ],
      "execution_count": null,
      "outputs": [
        {
          "output_type": "execute_result",
          "data": {
            "text/plain": [
              "2490"
            ]
          },
          "metadata": {
            "tags": []
          },
          "execution_count": 23
        }
      ]
    },
    {
      "cell_type": "code",
      "metadata": {
        "id": "ita4jSumd9s-",
        "colab": {
          "base_uri": "https://localhost:8080/",
          "height": 128
        },
        "outputId": "061704ca-78ee-459a-8b00-f1f51e05e975"
      },
      "source": [
        "cleanjob[0]"
      ],
      "execution_count": null,
      "outputs": [
        {
          "output_type": "execute_result",
          "data": {
            "application/vnd.google.colaboratory.intrinsic": {
              "type": "string"
            },
            "text/plain": [
              "'CHIEF FINANCIAL OFFICER JOB DESCRIPTION Principal Accountabilities Result Oversee budgetary planning costs management alignment strategic especially organization considers potential collaborations external Assess organizational performance annual budget Develop tools systems provide critical financial operational information management make actionable recommendations strategy Engage board investment committees around changes operating model operational Assist establishing yearly objectives meeting selecting engaging outside consultants investment Oversee reporting ensuring compliance appropriate accounting regulatory budget audit Maintain internal control Manage cash flow Develop reliable cash flow projection process reporting mechanism includes minimum cash threshold meet operating Optimize handling banking relationships initiate appropriate strategies enhance cash Responsible get new working capital limit wherever required increase existing working capital limit smooth functioning Oversee budgeting implementation budgets monitor progress present financial metrics internally Responsible raising debt overseas finance Responsible ensuring company pay cash repatriation cash available Responsible arranging capex loan per requirements Directs preparation financial including income balance reports tax reports government regulatory Reviews reports analyze projections sales profit actual budgeted expenses final suggests methods improving planning process Studies economic trends projects company prospects future growth overall sales market opportunities acquisitions expansion new product Supervises investment works banks investment bankers raise additional capital required Mentor develop managing work problem performance building effective team Standards Measuring Success Financial metrics Profit Loss statement Key management attributes Key Performance Indicators Tools Resources required Standard office computer equipment Environmental Attributes High Speed Fast Growth Highly charged Dynamic JOB ASK Framework Attitude Positive Fast paced prompt Achievement oriented Energetic Enthusiastic Focused Self motivated Skills Excellent Communication skills Analytical skills Interpersonal skills Problem Solving skills Mentoring skills Decision making skills Strong planning skills Strong organizing skills Skilled strategy business development Strong leadership skills High initiative ability manage ambiguity Knowledge business Years Age Group The incumbent age group'"
            ]
          },
          "metadata": {
            "tags": []
          },
          "execution_count": 24
        }
      ]
    },
    {
      "cell_type": "code",
      "metadata": {
        "id": "B0Z09dYjd9tB",
        "colab": {
          "base_uri": "https://localhost:8080/",
          "height": 128
        },
        "outputId": "7b430e0d-7203-4dd7-f470-5ce679fa62a0"
      },
      "source": [
        "cleanresume[0]"
      ],
      "execution_count": null,
      "outputs": [
        {
          "output_type": "execute_result",
          "data": {
            "application/vnd.google.colaboratory.intrinsic": {
              "type": "string"
            },
            "text/plain": [
              "'Lim Hui Ling Dorothy WORK EXPERIENCE EQUINIX ASIA PACIFIC PTE LTD General Regional Shared Service Centre Summary Finance Led Shared Service Centre setup Hong Kong country entities branch Perform closing country team processing posting monthly journals Processing fixed schedules Preparation monthly audit schedules Preparation monthly quarterly fluctuation analysis Intercompany reconciliation confirmation Review lease agreements capital computing assessing asset retirement obligation Preparation quarterly accounting memos assessment compliance US GAAP requirements Preparation monthly schedules vendor information updates system Sign SOX internal controls review Liaise auditors statutory group reporting requirements Finance Projects Involved User Acceptance Testing upgrade Oracle Accounting System identifying areas system improvement reports Involved REIT restructuring Hong Kong creation one additional legal entity User Acceptance Testing Oracle recording transfer entries Shadowing program Regional Tax Department Assisted deferred taxes computation local GAAP US GAAP Assisted report validation automating GST rates billing system Acquisition Japan subsidiaries Worked Corporate HQ team US KPMG Purchase Accounting entries Chart Accounts mapping conversion acquired Trial Balance Recording conversion bridge entries Japan GAAP US GAAP closing Secondment Japan Integration activities acquired subsidiaries Japan Oversee closing activities drafting calendar deadlines key liaison accountant Shared Service Centre Corporate HQ Setup internal processes US SOX compliance reviewing SOX liaison Corporate SOX team global auditors issues findings Involved Systems integration planning execution processes Involved REIT restructuring planning execution acquired subsidiaries Integration acquired subsidiaries Equinix culture work processes Liaison auditors acquisition audit Other projects APAC Global Corporate Travel Program rollout Worked Corporate HQ selecting global travel management vendor Review shortlisted vendors Request Proposals demo views Worked selected vendor planning execution program rollout APAC countries Recognition Rewards Finance Equistar Team Award Individual nomination Finance Equistar efforts KPMG External Audit Audit experience industries Electronics Oil Government Agencies Summary performing audit fieldwork responsible identification significant risk areas based business industry Propose audit approach Recognition relevant internal controls within financial identification weakness areas recommendation improvement points strengthen internal controls Performed review analysis budgeted actual financial performances Review financial statements compliance reporting financial framework Recognition Rewards Service Excellence Team Awards Gold Award PROFESSIONAL QUALIFICATION Chartered Accountant EDUCATION Bachelor Accountancy Second Class Honours Nanyang Technological Singapore GCE A Level Anderson Junior College GCE O Level Upper Serangoon Secondary School EDUCATION HIGHLIGHTS Social Service Award For good participation Community Involvement Program CCA Commendation Award For exemplary achievements CCA Ministry EAGLES Award For leadership skills CCA Merit Award For exemplary achievements CCA Concert Band Major Edusave Scholarship Award For good academic performance IT SKILLS Oracle Hyperion Cadency Microsoft Certified Application Specialist Microsoft Office Excel Microsoft Certified Application Specialist Microsoft Office Access Travelling'"
            ]
          },
          "metadata": {
            "tags": []
          },
          "execution_count": 25
        }
      ]
    },
    {
      "cell_type": "markdown",
      "metadata": {
        "id": "rB2_LBV0d9tG"
      },
      "source": [
        "## 3"
      ]
    },
    {
      "cell_type": "markdown",
      "metadata": {
        "id": "o8Tb__DBnAP9"
      },
      "source": [
        "just calculating cosine similarity between vectors"
      ]
    },
    {
      "cell_type": "code",
      "metadata": {
        "id": "bMuQP2Ekq1Pf"
      },
      "source": [
        "job_description = str(cleanjob)"
      ],
      "execution_count": null,
      "outputs": []
    },
    {
      "cell_type": "code",
      "metadata": {
        "id": "D37vooD5q37U",
        "colab": {
          "base_uri": "https://localhost:8080/",
          "height": 35
        },
        "outputId": "eabc0aac-3c1f-4641-a84d-3c0e72678140"
      },
      "source": [
        "type(job_description)"
      ],
      "execution_count": null,
      "outputs": [
        {
          "output_type": "execute_result",
          "data": {
            "text/plain": [
              "str"
            ]
          },
          "metadata": {
            "tags": []
          },
          "execution_count": 27
        }
      ]
    },
    {
      "cell_type": "code",
      "metadata": {
        "id": "pJZ3j0RFyn3H"
      },
      "source": [
        "# Extracting files names\n",
        "resume_names = []\n",
        "for filename in os.listdir(resumeDir):\n",
        "    resume_names.append(os.path.splitext(filename)[0])\n",
        "job_titles = []\n",
        "for filename in os.listdir(jobPostDir):\n",
        "    job_titles.append(os.path.splitext(filename)[0])"
      ],
      "execution_count": null,
      "outputs": []
    },
    {
      "cell_type": "code",
      "metadata": {
        "id": "X8fw3878qnG2"
      },
      "source": [
        "from sklearn.metrics.pairwise import cosine_similarity\n",
        "from sklearn.feature_extraction.text import CountVectorizer\n",
        "cv = CountVectorizer()\n",
        "\n",
        "def rank_cvs(clean_resume, job_description):\n",
        "    match_percentages_list = []\n",
        "    for i, x in enumerate(clean_resume):\n",
        "        text = [x, job_description]\n",
        "        count_matrix = cv.fit_transform(text)\n",
        "        #get the match percentage\n",
        "        matchPercentage = cosine_similarity(count_matrix)[0][1] * 100\n",
        "        match_percentages_list.append((i, round(matchPercentage, 3))) \n",
        "    for i, match_percentage in sorted(match_percentages_list, key=lambda x: -x[1]):\n",
        "        print(\"\\t(\"+  resume_names[i] +\")\"+ \" resume matches about \"+ str(match_percentage)+ \"% of the job description.\")\n",
        "    "
      ],
      "execution_count": null,
      "outputs": []
    },
    {
      "cell_type": "code",
      "metadata": {
        "id": "jYC-qIF1zbd9"
      },
      "source": [
        "import gensim.downloader as api"
      ],
      "execution_count": null,
      "outputs": []
    },
    {
      "cell_type": "code",
      "metadata": {
        "id": "nRsGcbu1D3nI",
        "colab": {
          "base_uri": "https://localhost:8080/",
          "height": 384
        },
        "outputId": "b46631b6-dcfe-4c37-8e2c-fd1b9792fcb2"
      },
      "source": [
        "model = api.load('word2vec-google-news-300')"
      ],
      "execution_count": null,
      "outputs": [
        {
          "output_type": "stream",
          "text": [
            "[===-----------------------------------------------] 6.5% 107.9/1662.8MB downloaded"
          ],
          "name": "stdout"
        },
        {
          "output_type": "stream",
          "text": [
            "IOPub message rate exceeded.\n",
            "The notebook server will temporarily stop sending output\n",
            "to the client in order to avoid crashing it.\n",
            "To change this limit, set the config variable\n",
            "`--NotebookApp.iopub_msg_rate_limit`.\n",
            "\n",
            "Current values:\n",
            "NotebookApp.iopub_msg_rate_limit=1000.0 (msgs/sec)\n",
            "NotebookApp.rate_limit_window=3.0 (secs)\n",
            "\n"
          ],
          "name": "stderr"
        },
        {
          "output_type": "stream",
          "text": [
            "[====----------------------------------------------] 8.9% 148.0/1662.8MB downloaded"
          ],
          "name": "stdout"
        },
        {
          "output_type": "stream",
          "text": [
            "IOPub message rate exceeded.\n",
            "The notebook server will temporarily stop sending output\n",
            "to the client in order to avoid crashing it.\n",
            "To change this limit, set the config variable\n",
            "`--NotebookApp.iopub_msg_rate_limit`.\n",
            "\n",
            "Current values:\n",
            "NotebookApp.iopub_msg_rate_limit=1000.0 (msgs/sec)\n",
            "NotebookApp.rate_limit_window=3.0 (secs)\n",
            "\n"
          ],
          "name": "stderr"
        }
      ]
    },
    {
      "cell_type": "code",
      "metadata": {
        "id": "4inMeyLeEE7h"
      },
      "source": [
        "import scipy\n",
        "def cosine_distance_wordembedding_method(s1, s2):\n",
        "    m1 = []\n",
        "    m2 = []\n",
        "    for word in s1.split():\n",
        "        try:\n",
        "            m1.append(model[word])\n",
        "        except KeyError:\n",
        "            pass\n",
        "    for word in s2.split():\n",
        "        try:\n",
        "            m2.append(model[word])\n",
        "        except KeyError:\n",
        "            pass\n",
        "    vector_1 = np.mean(m1, axis=0)\n",
        "    vector_2 = np.mean(m2,axis=0)\n",
        "    cosine = scipy.spatial.distance.cosine(vector_1, vector_2)\n",
        "    return round((1 - cosine)*100, 2)\n",
        "    #print('Word Embedding method with a cosine distance asses that our two sentences are similar to',round((1-cosine)*100,2),'%')"
      ],
      "execution_count": null,
      "outputs": []
    },
    {
      "cell_type": "code",
      "metadata": {
        "id": "DeSq7SGTFrPR"
      },
      "source": [
        "def rank_cvs_2(resume_list, job_list):\n",
        "    for i, job in enumerate(job_list):\n",
        "        rankings = [\n",
        "                    (j, cosine_distance_wordembedding_method(resume, job))\n",
        "                    for j, resume in enumerate(resume_list)\n",
        "        ]\n",
        "        print(f'{job_titles[i]}')\n",
        "        for j, percent in sorted(rankings, key=lambda x: -x[1]):\n",
        "            print(f'\\t({resume_names[i]}) resume matches about {percent}% of the job description.')\n",
        "        \n"
      ],
      "execution_count": null,
      "outputs": []
    },
    {
      "cell_type": "code",
      "metadata": {
        "id": "5nB5Koe78-C7",
        "colab": {
          "base_uri": "https://localhost:8080/",
          "height": 605
        },
        "outputId": "4276076c-06a9-4fd6-e3cc-4c7c0ac02450"
      },
      "source": [
        "for i, job in enumerate(cleanjob):\n",
        "  print(f'{job_titles[i]}')\n",
        "  rank_cvs(cleanresume, job)"
      ],
      "execution_count": null,
      "outputs": [
        {
          "output_type": "stream",
          "text": [
            "CHIEF FINANCIAL OFFICER\n",
            "\t(Dell_Manas Panda_Acc Advisor) resume matches about 32.185% of the job description.\n",
            "\t(Equinix_Dorothy Lim_Senior Accountant) resume matches about 31.124% of the job description.\n",
            "\t(Aviva_Elaine Cheah_Assistant FM) resume matches about 31.037% of the job description.\n",
            "\t(Gamevil_Belinda Zhang_Accounting Manager) resume matches about 26.034% of the job description.\n",
            "\t(GATES Construction_DEANNA SERENA_Finance Controller) resume matches about 25.427% of the job description.\n",
            "\t(APL_Muthuraman_Enterprise Architect) resume matches about 22.177% of the job description.\n",
            "\t(Blackberry_Pradeep Ladd_Sr FM) resume matches about 19.382% of the job description.\n",
            "\t(DNV GL_Novita Kie_FM) resume matches about 17.286% of the job description.\n",
            "\t(Edrington_Lim Kim Yan_Finance Manager) resume matches about 17.209% of the job description.\n",
            "\t(Bangkok Bank_Mak Hwei Chin_Accountant) resume matches about 16.771% of the job description.\n",
            "\t(Aberdeen_Magdalene Yow_Finance Manager) resume matches about 14.585% of the job description.\n",
            "\t(Country Garden_Angie Wang_FM) resume matches about 13.534% of the job description.\n",
            "\t(Accenture_Gaurav Srivastava_Sr Financial Analyst) resume matches about 13.185% of the job description.\n",
            "\t(Festo_Jerald Ling_FM) resume matches about 12.533% of the job description.\n",
            "\t(Amrose_Ishita Banerjee_Finance Manager) resume matches about 10.36% of the job description.\n",
            "ASSISTANT MANAGER - ADMINISTRATION\n",
            "\t(Blackberry_Pradeep Ladd_Sr FM) resume matches about 21.713% of the job description.\n",
            "\t(DNV GL_Novita Kie_FM) resume matches about 21.37% of the job description.\n",
            "\t(Aberdeen_Magdalene Yow_Finance Manager) resume matches about 20.958% of the job description.\n",
            "\t(Dell_Manas Panda_Acc Advisor) resume matches about 18.648% of the job description.\n",
            "\t(APL_Muthuraman_Enterprise Architect) resume matches about 18.027% of the job description.\n",
            "\t(Country Garden_Angie Wang_FM) resume matches about 15.973% of the job description.\n",
            "\t(Gamevil_Belinda Zhang_Accounting Manager) resume matches about 15.285% of the job description.\n",
            "\t(Equinix_Dorothy Lim_Senior Accountant) resume matches about 14.414% of the job description.\n",
            "\t(Accenture_Gaurav Srivastava_Sr Financial Analyst) resume matches about 13.854% of the job description.\n",
            "\t(Bangkok Bank_Mak Hwei Chin_Accountant) resume matches about 13.772% of the job description.\n",
            "\t(Aviva_Elaine Cheah_Assistant FM) resume matches about 13.599% of the job description.\n",
            "\t(Festo_Jerald Ling_FM) resume matches about 12.365% of the job description.\n",
            "\t(GATES Construction_DEANNA SERENA_Finance Controller) resume matches about 9.626% of the job description.\n",
            "\t(Edrington_Lim Kim Yan_Finance Manager) resume matches about 8.709% of the job description.\n",
            "\t(Amrose_Ishita Banerjee_Finance Manager) resume matches about 7.461% of the job description.\n"
          ],
          "name": "stdout"
        }
      ]
    },
    {
      "cell_type": "code",
      "metadata": {
        "id": "LnHtVQLx9NV2"
      },
      "source": [
        "import numpy as np"
      ],
      "execution_count": null,
      "outputs": []
    },
    {
      "cell_type": "code",
      "metadata": {
        "id": "MCZCVmv0-Abo"
      },
      "source": [
        "def rank_cvs_3(resume_list, job_list):\n",
        "    for i, job in enumerate(job_list):\n",
        "        rankings = [\n",
        "                    (j, model.distance(resume, job))\n",
        "                    for j, resume in enumerate(resume_list)\n",
        "        ]\n",
        "        print(f'{job_titles[i]}')\n",
        "        for j, percent in sorted(rankings, key=lambda x: -x[1]):\n",
        "            print(f'\\t({resume_names[i]}) resume matches about {percent}% of the job description.')"
      ],
      "execution_count": null,
      "outputs": []
    }
  ]
}