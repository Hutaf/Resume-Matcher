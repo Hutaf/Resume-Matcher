{
  "nbformat": 4,
  "nbformat_minor": 0,
  "metadata": {
    "kernelspec": {
      "display_name": "Python 3",
      "language": "python",
      "name": "python3"
    },
    "language_info": {
      "codemirror_mode": {
        "name": "ipython",
        "version": 3
      },
      "file_extension": ".py",
      "mimetype": "text/x-python",
      "name": "python",
      "nbconvert_exporter": "python",
      "pygments_lexer": "ipython3",
      "version": "3.7.3"
    },
    "colab": {
      "name": "Resume_Matcher.ipynb",
      "provenance": [],
      "collapsed_sections": [],
      "toc_visible": true,
      "include_colab_link": true
    }
  },
  "cells": [
    {
      "cell_type": "markdown",
      "metadata": {
        "id": "view-in-github",
        "colab_type": "text"
      },
      "source": [
        "<a href=\"https://colab.research.google.com/github/Hutaf/Resume-Matcher/blob/master/Resume_Matcher.ipynb\" target=\"_parent\"><img src=\"https://colab.research.google.com/assets/colab-badge.svg\" alt=\"Open In Colab\"/></a>"
      ]
    },
    {
      "cell_type": "markdown",
      "metadata": {
        "id": "T16Z5nFwd9r2",
        "colab_type": "text"
      },
      "source": [
        "## Resume matcher \n",
        "helps companies to find the ideal candidates based on job description\n",
        "\n",
        "### Steps:\n",
        "###### 1- Resume and job description parsing: convert pdf and docx files to list of string \n",
        "###### 2- Removing stop words and cleaning\n",
        "###### 3- Use CountVector and cosine similarity metric to find the matching percentage "
      ]
    },
    {
      "cell_type": "markdown",
      "metadata": {
        "id": "ZR--szBFd9r4",
        "colab_type": "text"
      },
      "source": [
        "## 1"
      ]
    },
    {
      "cell_type": "code",
      "metadata": {
        "id": "7r5vXQf0ei5n",
        "colab_type": "code",
        "colab": {
          "base_uri": "https://localhost:8080/",
          "height": 627
        },
        "outputId": "5a142c34-bf29-4421-866e-c10f1dd0a886"
      },
      "source": [
        "! pip install docx2txt\n",
        "! pip install pdfminer3\n",
        "! pip install PyPDF2\n",
        "! pip install gensim\n",
        "! pip install nltk"
      ],
      "execution_count": null,
      "outputs": [
        {
          "output_type": "stream",
          "text": [
            "Requirement already satisfied: docx2txt in /usr/local/lib/python3.6/dist-packages (0.8)\n",
            "Requirement already satisfied: pdfminer3 in /usr/local/lib/python3.6/dist-packages (2018.12.3.0)\n",
            "Requirement already satisfied: chardet in /usr/local/lib/python3.6/dist-packages (from pdfminer3) (3.0.4)\n",
            "Requirement already satisfied: sortedcontainers in /usr/local/lib/python3.6/dist-packages (from pdfminer3) (2.2.2)\n",
            "Requirement already satisfied: pycryptodome in /usr/local/lib/python3.6/dist-packages (from pdfminer3) (3.9.8)\n",
            "Collecting PyPDF2\n",
            "\u001b[?25l  Downloading https://files.pythonhosted.org/packages/b4/01/68fcc0d43daf4c6bdbc6b33cc3f77bda531c86b174cac56ef0ffdb96faab/PyPDF2-1.26.0.tar.gz (77kB)\n",
            "\u001b[K     |████████████████████████████████| 81kB 2.1MB/s \n",
            "\u001b[?25hBuilding wheels for collected packages: PyPDF2\n",
            "  Building wheel for PyPDF2 (setup.py) ... \u001b[?25l\u001b[?25hdone\n",
            "  Created wheel for PyPDF2: filename=PyPDF2-1.26.0-cp36-none-any.whl size=61086 sha256=02bc8d757f43d7cfdc64e2b5be6c6a759232f672164bc47e0ba38f63d9876788\n",
            "  Stored in directory: /root/.cache/pip/wheels/53/84/19/35bc977c8bf5f0c23a8a011aa958acd4da4bbd7a229315c1b7\n",
            "Successfully built PyPDF2\n",
            "Installing collected packages: PyPDF2\n",
            "Successfully installed PyPDF2-1.26.0\n",
            "Requirement already satisfied: gensim in /usr/local/lib/python3.6/dist-packages (3.6.0)\n",
            "Requirement already satisfied: scipy>=0.18.1 in /usr/local/lib/python3.6/dist-packages (from gensim) (1.4.1)\n",
            "Requirement already satisfied: numpy>=1.11.3 in /usr/local/lib/python3.6/dist-packages (from gensim) (1.18.5)\n",
            "Requirement already satisfied: smart-open>=1.2.1 in /usr/local/lib/python3.6/dist-packages (from gensim) (2.0.0)\n",
            "Requirement already satisfied: six>=1.5.0 in /usr/local/lib/python3.6/dist-packages (from gensim) (1.12.0)\n",
            "Requirement already satisfied: requests in /usr/local/lib/python3.6/dist-packages (from smart-open>=1.2.1->gensim) (2.23.0)\n",
            "Requirement already satisfied: boto in /usr/local/lib/python3.6/dist-packages (from smart-open>=1.2.1->gensim) (2.49.0)\n",
            "Requirement already satisfied: boto3 in /usr/local/lib/python3.6/dist-packages (from smart-open>=1.2.1->gensim) (1.14.9)\n",
            "Requirement already satisfied: chardet<4,>=3.0.2 in /usr/local/lib/python3.6/dist-packages (from requests->smart-open>=1.2.1->gensim) (3.0.4)\n",
            "Requirement already satisfied: idna<3,>=2.5 in /usr/local/lib/python3.6/dist-packages (from requests->smart-open>=1.2.1->gensim) (2.9)\n",
            "Requirement already satisfied: urllib3!=1.25.0,!=1.25.1,<1.26,>=1.21.1 in /usr/local/lib/python3.6/dist-packages (from requests->smart-open>=1.2.1->gensim) (1.24.3)\n",
            "Requirement already satisfied: certifi>=2017.4.17 in /usr/local/lib/python3.6/dist-packages (from requests->smart-open>=1.2.1->gensim) (2020.6.20)\n",
            "Requirement already satisfied: botocore<1.18.0,>=1.17.9 in /usr/local/lib/python3.6/dist-packages (from boto3->smart-open>=1.2.1->gensim) (1.17.9)\n",
            "Requirement already satisfied: s3transfer<0.4.0,>=0.3.0 in /usr/local/lib/python3.6/dist-packages (from boto3->smart-open>=1.2.1->gensim) (0.3.3)\n",
            "Requirement already satisfied: jmespath<1.0.0,>=0.7.1 in /usr/local/lib/python3.6/dist-packages (from boto3->smart-open>=1.2.1->gensim) (0.10.0)\n",
            "Requirement already satisfied: python-dateutil<3.0.0,>=2.1 in /usr/local/lib/python3.6/dist-packages (from botocore<1.18.0,>=1.17.9->boto3->smart-open>=1.2.1->gensim) (2.8.1)\n",
            "Requirement already satisfied: docutils<0.16,>=0.10 in /usr/local/lib/python3.6/dist-packages (from botocore<1.18.0,>=1.17.9->boto3->smart-open>=1.2.1->gensim) (0.15.2)\n",
            "Requirement already satisfied: nltk in /usr/local/lib/python3.6/dist-packages (3.2.5)\n",
            "Requirement already satisfied: six in /usr/local/lib/python3.6/dist-packages (from nltk) (1.12.0)\n"
          ],
          "name": "stdout"
        }
      ]
    },
    {
      "cell_type": "code",
      "metadata": {
        "id": "5Fv0we_zgHu-",
        "colab_type": "code",
        "colab": {
          "base_uri": "https://localhost:8080/",
          "height": 280
        },
        "outputId": "5dde6b54-25d4-4f6e-b59c-b59aa890a618"
      },
      "source": [
        "! pip install docx\n",
        "! pip install python-docx"
      ],
      "execution_count": null,
      "outputs": [
        {
          "output_type": "stream",
          "text": [
            "Requirement already satisfied: docx in /usr/local/lib/python3.6/dist-packages (0.2.4)\n",
            "Requirement already satisfied: Pillow>=2.0 in /usr/local/lib/python3.6/dist-packages (from docx) (7.0.0)\n",
            "Requirement already satisfied: lxml in /usr/local/lib/python3.6/dist-packages (from docx) (4.2.6)\n",
            "Collecting python-docx\n",
            "\u001b[?25l  Downloading https://files.pythonhosted.org/packages/e4/83/c66a1934ed5ed8ab1dbb9931f1779079f8bca0f6bbc5793c06c4b5e7d671/python-docx-0.8.10.tar.gz (5.5MB)\n",
            "\u001b[K     |████████████████████████████████| 5.5MB 2.6MB/s \n",
            "\u001b[?25hRequirement already satisfied: lxml>=2.3.2 in /usr/local/lib/python3.6/dist-packages (from python-docx) (4.2.6)\n",
            "Building wheels for collected packages: python-docx\n",
            "  Building wheel for python-docx (setup.py) ... \u001b[?25l\u001b[?25hdone\n",
            "  Created wheel for python-docx: filename=python_docx-0.8.10-cp36-none-any.whl size=184491 sha256=4c4ab9d1e9e5e0ee225274c1150b7f864f8712819a72c465001e2e7cb2f5eead\n",
            "  Stored in directory: /root/.cache/pip/wheels/18/0b/a0/1dd62ff812c857c9e487f27d80d53d2b40531bec1acecfa47b\n",
            "Successfully built python-docx\n",
            "Installing collected packages: python-docx\n",
            "Successfully installed python-docx-0.8.10\n"
          ],
          "name": "stdout"
        }
      ]
    },
    {
      "cell_type": "code",
      "metadata": {
        "id": "aufJ8tZ1fytk",
        "colab_type": "code",
        "colab": {
          "base_uri": "https://localhost:8080/",
          "height": 228
        },
        "outputId": "64a1ca22-eeae-4616-cb05-2b8a90821245"
      },
      "source": [
        "!wget -P /root/input/ -c \"https://s3.amazonaws.com/dl4j-distribution/GoogleNews-vectors-negative300.bin.gz\""
      ],
      "execution_count": null,
      "outputs": [
        {
          "output_type": "stream",
          "text": [
            "--2020-07-11 01:31:03--  https://s3.amazonaws.com/dl4j-distribution/GoogleNews-vectors-negative300.bin.gz\n",
            "Resolving s3.amazonaws.com (s3.amazonaws.com)... 52.217.47.118\n",
            "Connecting to s3.amazonaws.com (s3.amazonaws.com)|52.217.47.118|:443... connected.\n",
            "HTTP request sent, awaiting response... 200 OK\n",
            "Length: 1647046227 (1.5G) [application/x-gzip]\n",
            "Saving to: ‘/root/input/GoogleNews-vectors-negative300.bin.gz’\n",
            "\n",
            "GoogleNews-vectors- 100%[===================>]   1.53G  62.1MB/s    in 26s     \n",
            "\n",
            "2020-07-11 01:31:30 (59.5 MB/s) - ‘/root/input/GoogleNews-vectors-negative300.bin.gz’ saved [1647046227/1647046227]\n",
            "\n"
          ],
          "name": "stdout"
        }
      ]
    },
    {
      "cell_type": "code",
      "metadata": {
        "id": "FTFeXbJViDWm",
        "colab_type": "code",
        "colab": {
          "base_uri": "https://localhost:8080/",
          "height": 55
        },
        "outputId": "ec9ae5da-c70b-4ad1-c2e5-2756317bc720"
      },
      "source": [
        "from google.colab import drive\n",
        "drive.mount('/content/drive')"
      ],
      "execution_count": null,
      "outputs": [
        {
          "output_type": "stream",
          "text": [
            "Drive already mounted at /content/drive; to attempt to forcibly remount, call drive.mount(\"/content/drive\", force_remount=True).\n"
          ],
          "name": "stdout"
        }
      ]
    },
    {
      "cell_type": "code",
      "metadata": {
        "id": "ZH-omPNFd9r5",
        "colab_type": "code",
        "colab": {}
      },
      "source": [
        "#Libraries\n",
        "import os\n",
        "import collections\n",
        "import docx2txt\n",
        "from pdfminer3.layout import LAParams, LTTextBox\n",
        "from pdfminer3.pdfpage import PDFPage\n",
        "from pdfminer3.pdfinterp import PDFResourceManager\n",
        "from pdfminer3.pdfinterp import PDFPageInterpreter\n",
        "from pdfminer3.converter import PDFPageAggregator\n",
        "from pdfminer3.converter import TextConverter\n",
        "import io\n",
        "import docx "
      ],
      "execution_count": null,
      "outputs": []
    },
    {
      "cell_type": "code",
      "metadata": {
        "id": "QVtUGJQKkk7S",
        "colab_type": "code",
        "colab": {
          "base_uri": "https://localhost:8080/",
          "height": 69
        },
        "outputId": "47eb3f8c-9fba-4c92-e08d-0dab41f867a5"
      },
      "source": [
        "import nltk\n",
        "nltk.download('stopwords')"
      ],
      "execution_count": null,
      "outputs": [
        {
          "output_type": "stream",
          "text": [
            "[nltk_data] Downloading package stopwords to /root/nltk_data...\n",
            "[nltk_data]   Unzipping corpora/stopwords.zip.\n"
          ],
          "name": "stdout"
        },
        {
          "output_type": "execute_result",
          "data": {
            "text/plain": [
              "True"
            ]
          },
          "metadata": {
            "tags": []
          },
          "execution_count": 28
        }
      ]
    },
    {
      "cell_type": "code",
      "metadata": {
        "id": "Pgd1ILQMd9r8",
        "colab_type": "code",
        "colab": {}
      },
      "source": [
        "def convert_pdf_to_txt(path):\n",
        "    resource_manager = PDFResourceManager()\n",
        "    fake_file_handle = io.StringIO()\n",
        "    converter = TextConverter(resource_manager, fake_file_handle, laparams=LAParams())\n",
        "    page_interpreter = PDFPageInterpreter(resource_manager, converter)\n",
        "\n",
        "    with open(path, 'rb') as fh:\n",
        "\n",
        "        for page in PDFPage.get_pages(fh,\n",
        "                                      caching=True,\n",
        "                                      check_extractable=True):\n",
        "            page_interpreter.process_page(page)\n",
        "\n",
        "        text = fake_file_handle.getvalue()\n",
        "    converter.close()\n",
        "    fake_file_handle.close()\n",
        "    return text"
      ],
      "execution_count": null,
      "outputs": []
    },
    {
      "cell_type": "code",
      "metadata": {
        "id": "nLmCBDUrd9sA",
        "colab_type": "code",
        "colab": {}
      },
      "source": [
        "projectDir = '/content/drive/My Drive/'\n",
        "resumeDir = projectDir + 'Resumes/' \n",
        "jobPostDir= projectDir + 'Job/'"
      ],
      "execution_count": null,
      "outputs": []
    },
    {
      "cell_type": "code",
      "metadata": {
        "id": "p7LfMaEEd9sG",
        "colab_type": "code",
        "colab": {}
      },
      "source": [
        "# Extracting Resume and any file \n",
        "\n",
        "def MultipleConvert(FolderDir):\n",
        " resumeTxt = []\n",
        " for filename in os.listdir(FolderDir):\n",
        "    if(filename.endswith(\".pdf\")):\n",
        "        try:\n",
        "            resumeTxt.append(convert_pdf_to_txt(FolderDir+filename))\n",
        "        except Exception:\n",
        "            print('Error reading .pdf file' + filename)\n",
        "    if(filename.endswith(\".docx\")):\n",
        "        try:\n",
        "            doc = docx.Document(FolderDir + filename)\n",
        "            data = \"\"\n",
        "            fullText = []\n",
        "            for para in doc.paragraphs:\n",
        "                fullText.append(para.text)\n",
        "                data = '\\n'.join(fullText)\n",
        "            resumeTxt.append(data)\n",
        "        except IOError:\n",
        "            print('Error reading .docx file' + filename)\n",
        "    if(filename.endswith(\".doc\")):\n",
        "        try:\n",
        "            text = textract.process(FolderDir+filename).decode('utf-8')     \n",
        "            resumeTxt.append(text)\n",
        "        except Exception:\n",
        "            print('Error reading .doc file :' + filename)\n",
        " return resumeTxt"
      ],
      "execution_count": null,
      "outputs": []
    },
    {
      "cell_type": "code",
      "metadata": {
        "id": "P0meh9WM1Z_3",
        "colab_type": "code",
        "colab": {
          "base_uri": "https://localhost:8080/",
          "height": 35
        },
        "outputId": "1627530e-9e6b-475d-b2b1-1a061acf772e"
      },
      "source": [
        "resumeTxt = MultipleConvert(resumeDir)\n",
        "JobTxt = MultipleConvert(jobPostDir)"
      ],
      "execution_count": null,
      "outputs": [
        {
          "output_type": "stream",
          "text": [
            "Error reading .doc file :Allegis_Elaine Cheng_Asst FM.doc\n"
          ],
          "name": "stdout"
        }
      ]
    },
    {
      "cell_type": "code",
      "metadata": {
        "id": "cDHwOGFUd9sQ",
        "colab_type": "code",
        "colab": {
          "base_uri": "https://localhost:8080/",
          "height": 1000
        },
        "outputId": "48361da6-1e9d-4905-a38b-402409318b48"
      },
      "source": [
        "print(JobTxt[0])"
      ],
      "execution_count": null,
      "outputs": [
        {
          "output_type": "stream",
          "text": [
            " \n",
            "\n",
            " \n",
            "\n",
            "JOB DESCRIPTION:  ACCOUNTANT \n",
            "\n",
            " \n",
            "Position  Summary:    Is  responsible  for  full  charge  bookkeeping,  including  maintaining \n",
            "company financial records, monthly billing, billable time tracking and reports for review \n",
            "by the management team and outside certified public accounting firm.  This includes, \n",
            "but  is  not  limited  to:  accounts  receivable  and  payable,  EOM  reconciliation,  payroll, \n",
            "payroll  taxes,  quarterly  payroll  tax  reports,  invoicing,  personnel  payroll  records,  paid \n",
            "time off tracking, weekly, monthly, quarterly and yearly business reports, computer data \n",
            "entry of time slips as well as working with the company’s accounting firm and insurance \n",
            "agent  and  other  items  as  needed  by  management.    Experience  in  QuickBooks  (or \n",
            "equivalent) and Microsoft Office products required.   \n",
            " \n",
            "Part‐time position:  25‐28 hours per week.   \n",
            " \n",
            "Reports to:  President \n",
            " \n",
            "Duties and Responsibilities:   \n",
            " \n",
            "\n",
            "1.  Full charge bookkeeping including all month and year end journal entries.   \n",
            "2.  Compilation  and  preparation  of  monthly,  quarterly  and  yearly  financial \n",
            "statements for in‐house use and CPA firm for year end tax purposes and decision \n",
            "making. \n",
            "\n",
            "3.  Maintain  employee  records  including  but  not  limited  to  hours,  salary,  mileage \n",
            "\n",
            "and personal time off, etc. \n",
            "\n",
            "4.  Process payroll semi‐monthly, file all payroll taxes and forms monthly, quarterly \n",
            "and  yearly  as  required  by  Federal  and  State  laws.    Maintain  payroll  files  and \n",
            "reports. \n",
            "\n",
            "5.  Manage  Timeslips  program \n",
            "\n",
            "limited  to  reviewing  and \n",
            "downloading time, checking for accuracy and proof/edit as needed. Maintain the \n",
            "program and update as needed. \n",
            "\n",
            "including  but  not \n",
            "\n",
            "6.  Maintain  all  client  accounts  of  time,  billings  and  payments.    Collection  of \n",
            "\n",
            "accounts receivable when necessary. \n",
            "\n",
            "7.  Prepare all monthly client invoicing and vendor payments for management team \n",
            "\n",
            "approval and mailing. \n",
            "\n",
            "8.  Reconcile  credit  card  receipts  and  statements  monthly.    Track  credit  card \n",
            "\n",
            "receipts for client invoicing and pay cards in a timely manner. \n",
            "\n",
            "9.  Keeping  records  and  tracking  of  all  company  assets  purchased  and  in  use.  \n",
            "\n",
            "Update records when assets are removed and no longer in use. Report to CPA. \n",
            "\n",
            " \n",
            "\n",
            "\f10. Prepare  weekly,  monthly,  quarterly  reports  and  financial  analysis  reports \n",
            "including  but  not \n",
            "limited  to  financial  statements,  client  budget  reports, \n",
            "employee  time  challenge  reports,  part‐time  employee  hours  report,  employee \n",
            "financial profit share report, accounts receivable reports, etc. \n",
            "\n",
            "11. Responsible for follow up phone calls/emails and letters to track billing records, \n",
            "payment  requests,  bank  statements,  anything  financial    that  needs  follow‐up, \n",
            "etc. \n",
            "\n",
            "12. Prepare and maintain government client reporting and estimating. \n",
            "13. Provide  advice  and  assistance  in  making  decisions  in  the  areas  of  finances, \n",
            "\n",
            "analysis, financial software and accounting as requested by management. \n",
            "\n",
            "14.  Working  cooperatively  with  the  company’s  certified  public  accounting  and \n",
            "\n",
            "insurance firms. \n",
            "\n",
            " \n",
            "Qualifications: \n",
            " \n",
            "The successful candidate will: \n",
            " \n",
            "\n",
            "1.  Have  an  Associate  Degree  or  higher  with  experience  and  knowledge  in \n",
            "\n",
            "bookkeeping and accounting principles. \n",
            "\n",
            "2.  Have  experience  in  QuickBooks  and  Microsoft  Office  products  mainly  Excel, \n",
            "\n",
            "Word and Outlook. \n",
            "\n",
            "3.  Have demonstrated ability to make sound professional decisions. \n",
            "4.  Maintain client and business confidentiality. \n",
            "5.  Be self directed and self‐motivated. \n",
            "6.  Be detail oriented, organized and accurate. \n",
            "7.  Demonstrate the ability to work with numbers and understand a broad range of \n",
            "\n",
            "common financial matters in a timely manner. \n",
            "\n",
            "8.  Possess  computer  skills,  including  a  working  knowledge  of  common  software \n",
            "\n",
            "programs. \n",
            "\n",
            "9.  Present a professional appearance and demeanor as an associate of L&F. \n",
            "10. Be able to work with diverse personalities. \n",
            "11. Be willing to pursue collection of accounts receivables. \n",
            "12. Must have professional/business telephone and email skills. \n",
            "13. Be willing to do what it takes to get the job done in a timely manner. \n",
            "14. Be  bondable,  possess  a  valid  drivers  license,  have  reliable  transportation  and \n",
            "\n",
            "automobile insurance. \n",
            "\n",
            "15. Satisfactory completion of criminal background and credit check. \n",
            "\n",
            "\f\n"
          ],
          "name": "stdout"
        }
      ]
    },
    {
      "cell_type": "code",
      "metadata": {
        "id": "pIr3y1Fvd9sU",
        "colab_type": "code",
        "colab": {
          "base_uri": "https://localhost:8080/",
          "height": 1000
        },
        "outputId": "4efef2ea-0239-4179-f1c5-6cf2d240df0b"
      },
      "source": [
        "print(resumeTxt[0])"
      ],
      "execution_count": null,
      "outputs": [
        {
          "output_type": "stream",
          "text": [
            "CHI CHUNG MING, MINGSON (池鐘銘) \n",
            "\n",
            "Mobile: 61992356  Email: mingsonchi@gmail.com   \n",
            "\n",
            " \n",
            "\n",
            " \n",
            "\n",
            " \n",
            "\n",
            " \n",
            "\n",
            " \n",
            "\n",
            " \n",
            "\n",
            " \n",
            "\n",
            " \n",
            "\n",
            " \n",
            "\n",
            " \n",
            "\n",
            " \n",
            "\n",
            " \n",
            "\n",
            " \n",
            "\n",
            " \n",
            "\n",
            " \n",
            "\n",
            " \n",
            "\n",
            " \n",
            "\n",
            " \n",
            "\n",
            " \n",
            "\n",
            " \n",
            "\n",
            " \n",
            "\n",
            " \n",
            "\n",
            " \n",
            "\n",
            " \n",
            "\n",
            "Sep 2007–May 2011 \n",
            "\n",
            "Sep 2005–Jun 2007 \n",
            "\n",
            "Sep 2000–Jun 2005 \n",
            "\n",
            "EDUCATION \n",
            "\n",
            "Hong Kong Shue Yan University   \n",
            "\n",
            " \n",
            "\n",
            " \n",
            "\n",
            "- \n",
            "\n",
            "Bachelor of Commerce (Hons) in Accounting \n",
            "\n",
            "Caritas Wu Cheng-chung Secondary School  \n",
            "\n",
            "- \n",
            "\n",
            "F.7 graduate \n",
            "\n",
            "King’s College \n",
            "\n",
            "- \n",
            "\n",
            "F.5 graduate \n",
            "\n",
            " \n",
            "\n",
            " \n",
            "\n",
            " \n",
            "\n",
            " \n",
            "\n",
            " \n",
            "\n",
            " \n",
            "\n",
            "PROFESSIONAL QUALIFICATIONS \n",
            "\n",
            "- \n",
            "\n",
            "HKICPA Qualification Program - Qualified \n",
            "\n",
            "-  普通話水平測試等級証書-三級甲等 \n",
            "\n",
            "WORK EXPERIENCE \n",
            "\n",
            "Vistra Hong Kong, Senior Accountant \n",
            "\n",
            " \n",
            "\n",
            " \n",
            "\n",
            " \n",
            "\n",
            " \n",
            "\n",
            " \n",
            "\n",
            " \n",
            "\n",
            " \n",
            "\n",
            " \n",
            "\n",
            " \n",
            "\n",
            " \n",
            "\n",
            "Jul 2016–Present \n",
            "\n",
            "- \n",
            "\n",
            "Financial Reporting \n",
            "\n",
            "  Prepare financial statements according to HKSA and HKFRS \n",
            "\n",
            "  Review and comment on financial statements \n",
            "\n",
            "  Review audit report \n",
            "\n",
            "  Liaise with auditor \n",
            "\n",
            "  Communicate with client \n",
            "\n",
            "  Prepare Profits Tax Return for client \n",
            "\n",
            "- \n",
            "\n",
            "Payroll Processing \n",
            "\n",
            "  Prepare monthly payroll report \n",
            "\n",
            "  Prepare tax returns for employees and employers \n",
            "\n",
            "- \n",
            "\n",
            "Internal financial operation \n",
            "\n",
            "  Assist the manager to prepare ad hoc reports \n",
            "\n",
            "TMF Group, Accountant \n",
            "\n",
            " \n",
            "\n",
            " \n",
            "\n",
            " \n",
            "\n",
            " \n",
            "\n",
            " \n",
            "\n",
            " \n",
            "\n",
            " \n",
            "\n",
            " \n",
            "\n",
            " \n",
            "\n",
            " \n",
            "\n",
            " \n",
            "\n",
            " \n",
            "\n",
            "Jul 2014–Jun 2016 \n",
            "\n",
            "- \n",
            "\n",
            "Financial Reporting \n",
            "\n",
            "  Prepared financial statements according to HKSA and HKFRS \n",
            "\n",
            "  Reviewed and comment on financial statements \n",
            "\n",
            "  Reviewed audit report \n",
            "\n",
            "  Liaise with auditor \n",
            "\n",
            "Payment Processing \n",
            "\n",
            "  Prepared domestic and oversea payment per client’s instruction \n",
            "\n",
            "Internal financial operation \n",
            "\n",
            "  Assisted the supervisor to prepare ad hoc reports \n",
            "\n",
            "- \n",
            "\n",
            "- \n",
            "\n",
            "Tricor Services Limited, Accounting Officer   \n",
            "\n",
            " \n",
            "\n",
            " \n",
            "\n",
            " \n",
            "\n",
            " \n",
            "\n",
            " \n",
            "\n",
            " \n",
            "\n",
            " \n",
            "\n",
            " \n",
            "\n",
            "Sep 2011–Jun 2014 \n",
            "\n",
            "- \n",
            "\n",
            "Financial Reporting \n",
            "\n",
            "  Prepared financial statements according to HKSA and HKFRS \n",
            "\n",
            "  Reviewed and commented on financial statements \n",
            "\n",
            "- \n",
            "\n",
            "Payroll Processing \n",
            "\n",
            "  Prepared monthly payroll report \n",
            "\n",
            "  Prepared tax returns for employees and employers \n",
            "\n",
            "\f \n",
            "\n",
            " \n",
            "\n",
            "Optimum Media Direction, Accounting Assistant \n",
            "\n",
            " \n",
            "\n",
            " \n",
            "\n",
            " \n",
            "\n",
            " \n",
            "\n",
            " \n",
            "\n",
            " \n",
            "\n",
            " \n",
            "\n",
            " \n",
            "\n",
            " \n",
            "\n",
            "Mar 2010–Sep 2011 \n",
            "\n",
            "- \n",
            "\n",
            "- \n",
            "\n",
            "- \n",
            "\n",
            "Invoicing \n",
            "\n",
            " \n",
            "\n",
            "Issued, filed & sent sales invoices to clients with required supporting documents \n",
            "\n",
            "Payment Processing \n",
            "\n",
            "  Prepare payment vouchers \n",
            "\n",
            "Internal financial operation \n",
            "\n",
            "  Assisted the supervisor to prepare ad hoc reports and to resolve cost variance \n",
            "\n",
            " \n",
            "\n",
            "LANGUAGE PROFICIENCY & COMPUTER SKILLS \n",
            "\n",
            "- \n",
            "\n",
            "- \n",
            "\n",
            "Language Proficiency: Cantonese (Native); English (Good); Putonghua (Good) \n",
            "\n",
            "Computer Skills: Microsoft Office (Word, Excel and PowerPoint), Viewpoint, Sun Account, Solution 6, \n",
            "\n",
            "MYOB \n",
            "\n",
            "\f\n"
          ],
          "name": "stdout"
        }
      ]
    },
    {
      "cell_type": "code",
      "metadata": {
        "id": "SkniIibJd9sZ",
        "colab_type": "code",
        "colab": {
          "base_uri": "https://localhost:8080/",
          "height": 35
        },
        "outputId": "15e4c905-7dd0-42a5-a26d-3a476e8d87fe"
      },
      "source": [
        "len(resumeTxt)"
      ],
      "execution_count": null,
      "outputs": [
        {
          "output_type": "execute_result",
          "data": {
            "text/plain": [
              "6"
            ]
          },
          "metadata": {
            "tags": []
          },
          "execution_count": 71
        }
      ]
    },
    {
      "cell_type": "code",
      "metadata": {
        "id": "bfahS9vY13kr",
        "colab_type": "code",
        "colab": {
          "base_uri": "https://localhost:8080/",
          "height": 35
        },
        "outputId": "ea27f11d-0476-4307-b7d4-c99cd237ed86"
      },
      "source": [
        "len(JobTxt)"
      ],
      "execution_count": null,
      "outputs": [
        {
          "output_type": "execute_result",
          "data": {
            "text/plain": [
              "1"
            ]
          },
          "metadata": {
            "tags": []
          },
          "execution_count": 72
        }
      ]
    },
    {
      "cell_type": "code",
      "metadata": {
        "id": "oTuoJVDUd9sc",
        "colab_type": "code",
        "colab": {
          "base_uri": "https://localhost:8080/",
          "height": 35
        },
        "outputId": "6f40b729-51d9-4126-9c6b-1160d1bd9aec"
      },
      "source": [
        "type(resumeTxt)"
      ],
      "execution_count": null,
      "outputs": [
        {
          "output_type": "execute_result",
          "data": {
            "text/plain": [
              "list"
            ]
          },
          "metadata": {
            "tags": []
          },
          "execution_count": 73
        }
      ]
    },
    {
      "cell_type": "code",
      "metadata": {
        "id": "eltq1diSd9sf",
        "colab_type": "code",
        "colab": {}
      },
      "source": [
        "# NOT IMP\n",
        "# Save Clean files into txt file\n",
        "f=open('Clean_Resume.txt','w', encoding='utf-8')\n",
        "for ele in resumeTxt:\n",
        "    f.write(ele+'\\n')\n",
        "f.close()\n",
        "\n",
        "f1=open('Clean_Job.txt','w', encoding='utf-8')\n",
        "for ele in JobTxt:\n",
        "    f1.write(ele+'\\n')\n",
        "f1.close()"
      ],
      "execution_count": null,
      "outputs": []
    },
    {
      "cell_type": "markdown",
      "metadata": {
        "id": "qz4sByted9sj",
        "colab_type": "text"
      },
      "source": [
        "## 2 "
      ]
    },
    {
      "cell_type": "code",
      "metadata": {
        "id": "dDqH4qbUd9sk",
        "colab_type": "code",
        "colab": {}
      },
      "source": [
        "from nltk.corpus import stopwords\n",
        "stop_word = set(stopwords.words('english'))"
      ],
      "execution_count": null,
      "outputs": []
    },
    {
      "cell_type": "code",
      "metadata": {
        "id": "5bctMoX_d9st",
        "colab_type": "code",
        "colab": {}
      },
      "source": [
        "def Cleaning(listTxt):\n",
        " clean = []\n",
        " for x in listTxt:\n",
        "    text = x\n",
        "    text = text.split()\n",
        "    text = [w for w in text if w not in stop_word] # Remove stop_words\n",
        "    text = [w for w in text if w.isalpha()] # Remove numbers and special characters\n",
        "    clean.append(\" \".join(text))\n",
        " return clean"
      ],
      "execution_count": null,
      "outputs": []
    },
    {
      "cell_type": "code",
      "metadata": {
        "id": "CtEvApPi2vH7",
        "colab_type": "code",
        "colab": {}
      },
      "source": [
        "# Clean resumes and job description\n",
        "cleanresume = Cleaning(resumeTxt)\n",
        "cleanjob = Cleaning(JobTxt)"
      ],
      "execution_count": null,
      "outputs": []
    },
    {
      "cell_type": "code",
      "metadata": {
        "id": "U4v0ichrd9sw",
        "colab_type": "code",
        "colab": {
          "base_uri": "https://localhost:8080/",
          "height": 35
        },
        "outputId": "8a378cf6-bc82-4626-93b7-661194fb58f0"
      },
      "source": [
        "len(resumeTxt[0])"
      ],
      "execution_count": null,
      "outputs": [
        {
          "output_type": "execute_result",
          "data": {
            "text/plain": [
              "2513"
            ]
          },
          "metadata": {
            "tags": []
          },
          "execution_count": 77
        }
      ]
    },
    {
      "cell_type": "code",
      "metadata": {
        "id": "ag7DU7NOd9sz",
        "colab_type": "code",
        "colab": {
          "base_uri": "https://localhost:8080/",
          "height": 35
        },
        "outputId": "999e3775-65ae-4a4c-9ae4-a199ff0bd233"
      },
      "source": [
        "len(cleanresume[0])"
      ],
      "execution_count": null,
      "outputs": [
        {
          "output_type": "execute_result",
          "data": {
            "text/plain": [
              "1543"
            ]
          },
          "metadata": {
            "tags": []
          },
          "execution_count": 78
        }
      ]
    },
    {
      "cell_type": "code",
      "metadata": {
        "id": "p4alOF2Cd9s2",
        "colab_type": "code",
        "colab": {
          "base_uri": "https://localhost:8080/",
          "height": 35
        },
        "outputId": "ddcf2e1d-5cdc-4b7a-9aa7-6ec22a2fdd74"
      },
      "source": [
        "len(JobTxt[0])"
      ],
      "execution_count": null,
      "outputs": [
        {
          "output_type": "execute_result",
          "data": {
            "text/plain": [
              "4376"
            ]
          },
          "metadata": {
            "tags": []
          },
          "execution_count": 79
        }
      ]
    },
    {
      "cell_type": "code",
      "metadata": {
        "id": "SbB9VtwZd9s5",
        "colab_type": "code",
        "colab": {
          "base_uri": "https://localhost:8080/",
          "height": 35
        },
        "outputId": "93622d7a-7e5e-4ab8-bf48-075af09efb5a"
      },
      "source": [
        "len(cleanjob[0])"
      ],
      "execution_count": null,
      "outputs": [
        {
          "output_type": "execute_result",
          "data": {
            "text/plain": [
              "2425"
            ]
          },
          "metadata": {
            "tags": []
          },
          "execution_count": 80
        }
      ]
    },
    {
      "cell_type": "code",
      "metadata": {
        "id": "ita4jSumd9s-",
        "colab_type": "code",
        "colab": {
          "base_uri": "https://localhost:8080/",
          "height": 191
        },
        "outputId": "d72f9490-c7c4-48d9-cfbd-501cdce024b9"
      },
      "source": [
        "cleanjob[0]"
      ],
      "execution_count": null,
      "outputs": [
        {
          "output_type": "execute_result",
          "data": {
            "application/vnd.google.colaboratory.intrinsic": {
              "type": "string"
            },
            "text/plain": [
              "'JOB ACCOUNTANT Position Is responsible full charge including maintaining company financial monthly billable time tracking reports review management team outside certified public accounting This limited accounts receivable EOM payroll quarterly payroll tax personnel payroll paid time quarterly yearly business computer data entry time slips well working accounting firm insurance agent items needed Experience QuickBooks Microsoft Office products hours per Reports President Duties Full charge bookkeeping including month year end journal Compilation preparation quarterly yearly financial statements use CPA firm year end tax purposes decision Maintain employee records including limited mileage personal time Process payroll file payroll taxes forms quarterly yearly required Federal State Maintain payroll files Manage Timeslips program limited reviewing downloading checking accuracy Maintain program update including Maintain client accounts billings Collection accounts receivable Prepare monthly client invoicing vendor payments management team approval Reconcile credit card receipts statements Track credit card receipts client invoicing pay cards timely Keeping records tracking company assets purchased Update records assets removed longer Report Prepare quarterly reports financial analysis reports including limited financial client budget employee time challenge employee hours employee financial profit share accounts receivable Responsible follow phone letters track billing payment bank anything financial needs Prepare maintain government client reporting Provide advice assistance making decisions areas financial software accounting requested Working cooperatively certified public accounting insurance The successful candidate Have Associate Degree higher experience knowledge bookkeeping accounting Have experience QuickBooks Microsoft Office products mainly Word Have demonstrated ability make sound professional Maintain client business Be self directed Be detail organized Demonstrate ability work numbers understand broad range common financial matters timely Possess computer including working knowledge common software Present professional appearance demeanor associate Be able work diverse Be willing pursue collection accounts Must telephone email Be willing takes get job done timely Be possess valid drivers reliable transportation automobile Satisfactory completion criminal background credit'"
            ]
          },
          "metadata": {
            "tags": []
          },
          "execution_count": 81
        }
      ]
    },
    {
      "cell_type": "code",
      "metadata": {
        "id": "B0Z09dYjd9tB",
        "colab_type": "code",
        "colab": {
          "base_uri": "https://localhost:8080/",
          "height": 191
        },
        "outputId": "06c2d053-bd57-4c5b-ee20-66c0dc5c66ce"
      },
      "source": [
        "cleanresume[0]"
      ],
      "execution_count": null,
      "outputs": [
        {
          "output_type": "execute_result",
          "data": {
            "application/vnd.google.colaboratory.intrinsic": {
              "type": "string"
            },
            "text/plain": [
              "'CHI CHUNG MINGSON Sep Sep Sep EDUCATION Hong Kong Shue Yan University Bachelor Commerce Accounting Caritas Wu Secondary School graduate College graduate PROFESSIONAL QUALIFICATIONS HKICPA Qualification Program Qualified WORK EXPERIENCE Vistra Hong Senior Accountant Jul Financial Reporting Prepare financial statements according HKSA HKFRS Review comment financial statements Review audit report Liaise auditor Communicate client Prepare Profits Tax Return client Payroll Processing Prepare monthly payroll report Prepare tax returns employees employers Internal financial operation Assist manager prepare ad hoc reports TMF Accountant Jul Financial Reporting Prepared financial statements according HKSA HKFRS Reviewed comment financial statements Reviewed audit report Liaise auditor Payment Processing Prepared domestic oversea payment per instruction Internal financial operation Assisted supervisor prepare ad hoc reports Tricor Services Accounting Officer Sep Financial Reporting Prepared financial statements according HKSA HKFRS Reviewed commented financial statements Payroll Processing Prepared monthly payroll report Prepared tax returns employees employers Optimum Media Accounting Assistant Mar Invoicing filed sent sales invoices clients required supporting documents Payment Processing Prepare payment vouchers Internal financial operation Assisted supervisor prepare ad hoc reports resolve cost variance LANGUAGE PROFICIENCY COMPUTER SKILLS Language Cantonese English Putonghua Computer Microsoft Office Excel Sun Solution MYOB'"
            ]
          },
          "metadata": {
            "tags": []
          },
          "execution_count": 82
        }
      ]
    },
    {
      "cell_type": "markdown",
      "metadata": {
        "id": "rB2_LBV0d9tG",
        "colab_type": "text"
      },
      "source": [
        "## 3"
      ]
    },
    {
      "cell_type": "markdown",
      "metadata": {
        "id": "o8Tb__DBnAP9",
        "colab_type": "text"
      },
      "source": [
        "just calculating cosine similarity between vectors"
      ]
    },
    {
      "cell_type": "code",
      "metadata": {
        "id": "bMuQP2Ekq1Pf",
        "colab_type": "code",
        "colab": {}
      },
      "source": [
        "job_description = str(cleanjob)"
      ],
      "execution_count": null,
      "outputs": []
    },
    {
      "cell_type": "code",
      "metadata": {
        "id": "D37vooD5q37U",
        "colab_type": "code",
        "colab": {
          "base_uri": "https://localhost:8080/",
          "height": 35
        },
        "outputId": "c06231a3-5495-4d5e-cbd9-ff468b936dea"
      },
      "source": [
        "type(job_description)"
      ],
      "execution_count": null,
      "outputs": [
        {
          "output_type": "execute_result",
          "data": {
            "text/plain": [
              "str"
            ]
          },
          "metadata": {
            "tags": []
          },
          "execution_count": 84
        }
      ]
    },
    {
      "cell_type": "code",
      "metadata": {
        "id": "pJZ3j0RFyn3H",
        "colab_type": "code",
        "colab": {}
      },
      "source": [
        "# Extracting files names\n",
        "Names = []\n",
        "for filename in os.listdir(resumeDir):\n",
        "    Names.append(os.path.splitext(filename)[0])"
      ],
      "execution_count": null,
      "outputs": []
    },
    {
      "cell_type": "code",
      "metadata": {
        "id": "X8fw3878qnG2",
        "colab_type": "code",
        "colab": {
          "base_uri": "https://localhost:8080/",
          "height": 121
        },
        "outputId": "2fe60015-41d0-4c4b-fdaa-f9d5486868f5"
      },
      "source": [
        "from sklearn.metrics.pairwise import cosine_similarity\n",
        "from sklearn.feature_extraction.text import CountVectorizer\n",
        "cv = CountVectorizer()\n",
        "i = 0\n",
        "for x in cleanresume:\n",
        "    text = [x, job_description]\n",
        "    count_matrix = cv.fit_transform(text)\n",
        "    #get the match percentage\n",
        "    matchPercentage = cosine_similarity(count_matrix)[0][1] * 100\n",
        "    matchPercentage = round(matchPercentage, 3) \n",
        "    print(\"(\"+  Names[i] +\")\"+ \" resume matches about \"+ str(matchPercentage)+ \"% of the job description.\")\n",
        "    i += 1"
      ],
      "execution_count": null,
      "outputs": [
        {
          "output_type": "stream",
          "text": [
            "(Vistra_Mingson Chi_Sr Accountant) resume matches about 35.762% of the job description.\n",
            "(Pearson_Henry Yeung_Accountant) resume matches about 36.633% of the job description.\n",
            "(Yes & Co_Brian Ho_Asst Accountant) resume matches about 25.736% of the job description.\n",
            "(Lynks_Sherry Chui_Sr Acc Officer) resume matches about 28.506% of the job description.\n",
            "(Maurice Zhang_Edwin Jiang_Accountant) resume matches about 29.383% of the job description.\n",
            "(HSBC_Johnson Chan_Trust Acc Officer) resume matches about 39.525% of the job description.\n"
          ],
          "name": "stdout"
        }
      ]
    },
    {
      "cell_type": "code",
      "metadata": {
        "id": "jYC-qIF1zbd9",
        "colab_type": "code",
        "colab": {}
      },
      "source": [
        ""
      ],
      "execution_count": null,
      "outputs": []
    }
  ]
}